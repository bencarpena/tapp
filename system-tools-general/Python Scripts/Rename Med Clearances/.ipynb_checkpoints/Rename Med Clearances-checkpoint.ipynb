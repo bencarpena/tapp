{
 "cells": [
  {
   "cell_type": "code",
   "execution_count": 113,
   "id": "774e1382",
   "metadata": {},
   "outputs": [],
   "source": [
    "#necessary libraries\n",
    "import os\n",
    "from pdfminer.high_level import extract_text\n",
    "\n",
    "keyword = \"Certificate\"\n",
    "#loop through all files in folder\n",
    "for filename in os.listdir():\n",
    "    if keyword in filename:\n",
    "        text = extract_text(filename) #extract text from pdf\n",
    "        raw_list = text.split('\\n') #put text into list\n",
    "        date = raw_list[0].replace(\"/\",\"-\") #extract date\n",
    "        year = date.split('-')[2] #extract year\n",
    "        full_name = raw_list[2] #extract full name\n",
    "        last_name = raw_list[2].rsplit(' ', 1)[1] #extract last name\n",
    "        first_name_initial = raw_list[2].rsplit(' ', 1)[0][0:1] #extract last inital\n",
    "        name = last_name + first_name_initial #aggregate name first name last initial\n",
    "        ID = raw_list[8][ 13 :  ] #extract ID\n",
    "        os.rename(filename, ID + \"_RESP CLEAR_MedicalDocument_\" + date + \"_\" + name + year + \".pdf\") #rename file to structured format\n",
    "        #print(repr(text))"
   ]
  }
 ],
 "metadata": {
  "kernelspec": {
   "display_name": "Python 3",
   "language": "python",
   "name": "python3"
  },
  "language_info": {
   "codemirror_mode": {
    "name": "ipython",
    "version": 3
   },
   "file_extension": ".py",
   "mimetype": "text/x-python",
   "name": "python",
   "nbconvert_exporter": "python",
   "pygments_lexer": "ipython3",
   "version": "3.8.8"
  }
 },
 "nbformat": 4,
 "nbformat_minor": 5
}
