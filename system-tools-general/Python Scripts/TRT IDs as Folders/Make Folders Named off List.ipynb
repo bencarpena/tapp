{
 "cells": [
  {
   "cell_type": "code",
   "execution_count": 4,
   "id": "d233a7cb",
   "metadata": {},
   "outputs": [],
   "source": [
    "# necessary libraries \n",
    "import os # library to make and manipulate folders\n",
    "import pandas as pd # library to read in data into a dataframe"
   ]
  },
  {
   "cell_type": "code",
   "execution_count": 5,
   "id": "9cafc3ff",
   "metadata": {},
   "outputs": [],
   "source": [
    "# reading in the data from the excel file and casting only the trt_id column\n",
    "# to a string\n",
    "trt_file = pd.read_excel(\"Book1.xlsx\")\n",
    "trt_ids = trt_file.TRT_ID\n",
    "trt_ids_string = [str(x) for x in trt_ids]"
   ]
  },
  {
   "cell_type": "code",
   "execution_count": 10,
   "id": "3c911ac2",
   "metadata": {},
   "outputs": [],
   "source": [
    "# running a for loop through a function that creates a folder for each trt in \n",
    "# the trt_id column \n",
    "for trt in trt_ids_string:\n",
    "    os.mkdir(trt) \n",
    "    def create_dir(dir):\n",
    "      if not os.path.exists(dir):\n",
    "        os.makedirs(dir)\n",
    "        print(\"Created Directory : \", dir)\n",
    "      else:\n",
    "        print(\"Directory already existed : \", dir)\n",
    "      return dir"
   ]
  }
 ],
 "metadata": {
  "kernelspec": {
   "display_name": "Python 3",
   "language": "python",
   "name": "python3"
  },
  "language_info": {
   "codemirror_mode": {
    "name": "ipython",
    "version": 3
   },
   "file_extension": ".py",
   "mimetype": "text/x-python",
   "name": "python",
   "nbconvert_exporter": "python",
   "pygments_lexer": "ipython3",
   "version": "3.8.8"
  }
 },
 "nbformat": 4,
 "nbformat_minor": 5
}
